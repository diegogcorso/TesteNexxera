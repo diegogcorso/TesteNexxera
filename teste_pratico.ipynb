{
 "cells": [
  {
   "cell_type": "code",
   "execution_count": 1,
   "id": "3585c863-7247-4e97-9331-dbfe121e1c18",
   "metadata": {},
   "outputs": [],
   "source": [
    "import pyspark\n",
    "from delta import *\n",
    "from delta.tables import DeltaTable\n",
    "\n",
    "\n",
    "# Se você precisar adicionar ou alterar partições, considere métodos como merge ou outras operações.\n",
    "\n",
    "\n",
    "builder = pyspark.sql.SparkSession.builder.appName(\"Teste Prático\")\\\n",
    "    .config(\"spark.sql.extensions\", \"io.delta.sql.DeltaSparkSessionExtension\")\\\n",
    "    .config(\"spark.sql.catalog.spark_catalog\", \"org.apache.spark.sql.delta.catalog.DeltaCatalog\")\\\n",
    "\n",
    "spark = configure_spark_with_delta_pip(builder).getOrCreate()\n",
    "    "
   ]
  },
  {
   "cell_type": "code",
   "execution_count": 2,
   "id": "9aa6b7f7-9892-4871-8178-1963e30578f9",
   "metadata": {
    "scrolled": true
   },
   "outputs": [
    {
     "name": "stdout",
     "output_type": "stream",
     "text": [
      "+------------+--------------+-------+--------------+--------------------+\n",
      "|id_transacao|data_transacao|  valor|tipo_transacao|           descricao|\n",
      "+------------+--------------+-------+--------------+--------------------+\n",
      "|           1|    2024-07-01|1500.45|      DEPOSITO| Depósito de Salário|\n",
      "|           2|    2024-07-02|-200.32|         SAQUE|        Saque em ATM|\n",
      "|           3|    2024-07-03| -50.67|     PAGAMENTO|           Cafeteria|\n",
      "|           4|    2024-07-03|2000.78| TRANSFERENCIA|Transferência par...|\n",
      "|           5|    2024-07-04|-100.25|     PAGAMENTO|        Supermercado|\n",
      "|           6|    2024-07-04| -30.12|     PAGAMENTO|  Transporte Público|\n",
      "|           7|    2024-07-05|2500.89|      DEPOSITO| Pagamento Freelance|\n",
      "|           8|    2024-07-06|-300.55|         SAQUE|        Saque em ATM|\n",
      "|           9|    2024-07-07|  -20.3|     PAGAMENTO|   Assinatura Online|\n",
      "|          10|    2024-07-07|  500.4|      DEPOSITO|Retorno de Invest...|\n",
      "|          11|    2024-07-08|3200.99|      DEPOSITO|             Salário|\n",
      "|          12|    2024-07-09|-450.23|     PAGAMENTO|             Aluguel|\n",
      "|          13|    2024-07-10| -75.35|     PAGAMENTO|            Academia|\n",
      "|          14|    2024-07-11| -120.5|     PAGAMENTO|         Restaurante|\n",
      "|          15|    2024-07-12|1800.75| TRANSFERENCIA|Transferência de ...|\n",
      "|          16|    2024-07-13|  300.1|      DEPOSITO|           Reembolso|\n",
      "|          17|    2024-07-14| -60.55|     PAGAMENTO|                Uber|\n",
      "|          18|    2024-07-15|  750.9| TRANSFERENCIA|Transferência par...|\n",
      "|          19|    2024-07-16| -15.45|     PAGAMENTO|                Café|\n",
      "|          20|    2024-07-17|1000.65|      DEPOSITO|               Bônus|\n",
      "+------------+--------------+-------+--------------+--------------------+\n",
      "only showing top 20 rows\n",
      "\n"
     ]
    }
   ],
   "source": [
    "\n",
    "# Carregar o arquivo CSV\n",
    "df = spark.read.csv('/home/jovyan/work/financial_data.csv', header=True, inferSchema=True)\n",
    "df.show()"
   ]
  },
  {
   "cell_type": "code",
   "execution_count": 3,
   "id": "e1c8ec2b-a6da-4c50-b835-ccd2684b6b75",
   "metadata": {
    "scrolled": true
   },
   "outputs": [
    {
     "name": "stdout",
     "output_type": "stream",
     "text": [
      "root\n",
      " |-- id_transacao: integer (nullable = true)\n",
      " |-- data_transacao: date (nullable = true)\n",
      " |-- valor: double (nullable = true)\n",
      " |-- tipo_transacao: string (nullable = true)\n",
      " |-- descricao: string (nullable = true)\n",
      "\n"
     ]
    }
   ],
   "source": [
    "from pyspark.sql.functions import col\n",
    "\n",
    "# Converter a coluna ‘valor’ para o tipo de dados double\n",
    "df = df.withColumn(\"valor\", col(\"valor\").cast(\"double\"))\n",
    "df.printSchema()"
   ]
  },
  {
   "cell_type": "code",
   "execution_count": 4,
   "id": "967919b9-91a4-4858-b5ca-07bacf1faf8a",
   "metadata": {},
   "outputs": [
    {
     "name": "stdout",
     "output_type": "stream",
     "text": [
      "+------------+--------------+-------+--------------+--------------------+\n",
      "|id_transacao|data_transacao|  valor|tipo_transacao|           descricao|\n",
      "+------------+--------------+-------+--------------+--------------------+\n",
      "|           1|    2024-07-01|1500.45|      DEPOSITO| Depósito de Salário|\n",
      "|           4|    2024-07-03|2000.78| TRANSFERENCIA|Transferência par...|\n",
      "|           7|    2024-07-05|2500.89|      DEPOSITO| Pagamento Freelance|\n",
      "|          11|    2024-07-08|3200.99|      DEPOSITO|             Salário|\n",
      "|          15|    2024-07-12|1800.75| TRANSFERENCIA|Transferência de ...|\n",
      "|          20|    2024-07-17|1000.65|      DEPOSITO|               Bônus|\n",
      "|          22|    2024-07-19| 2200.8| TRANSFERENCIA|Transferência par...|\n",
      "|          28|    2024-07-25| 2000.1| TRANSFERENCIA|Transferência de ...|\n",
      "|          30|    2024-07-27|2750.75|      DEPOSITO|             Salário|\n",
      "|          34|    2024-08-01|1600.95|      DEPOSITO| Depósito de Salário|\n",
      "|          37|    2024-08-03| 2150.6| TRANSFERENCIA|Transferência par...|\n",
      "|          40|    2024-08-05| 2650.4|      DEPOSITO| Pagamento Freelance|\n",
      "|          44|    2024-08-08|3300.75|      DEPOSITO|         Bônus Anual|\n",
      "|          48|    2024-08-10|1350.45|      DEPOSITO|    Reembolso Médico|\n",
      "+------------+--------------+-------+--------------+--------------------+\n",
      "\n"
     ]
    }
   ],
   "source": [
    "# Filtrar as transações com valor acima de 1000\n",
    "df_filtered = df.filter(col(\"valor\") > 1000)\n",
    "df_filtered.show()\n"
   ]
  },
  {
   "cell_type": "code",
   "execution_count": 5,
   "id": "cf3955e8-a86b-4bf1-8010-6a2e0a531c5a",
   "metadata": {},
   "outputs": [],
   "source": [
    "# Salvar os dados filtrados em um Delta Lake, particionados pela data da transação\n",
    "df_filtered.write \\\n",
    "    .format(\"delta\") \\\n",
    "    .mode(\"overwrite\") \\\n",
    "    .partitionBy(\"data_transacao\") \\\n",
    "    .save(\"/home/jovyan/work/delta/financial_data\")\n"
   ]
  },
  {
   "cell_type": "code",
   "execution_count": 7,
   "id": "b8737d69-2a87-498a-b760-da172a49112b",
   "metadata": {},
   "outputs": [
    {
     "data": {
      "text/plain": [
       "DataFrame[]"
      ]
     },
     "execution_count": 7,
     "metadata": {},
     "output_type": "execute_result"
    }
   ],
   "source": [
    "from delta.tables import DeltaTable\n",
    "\n",
    "# Especificando o caminho onde os dados Delta estão armazenados\n",
    "delta_path = \"/home/jovyan/work/delta/financial_data\"\n",
    "\n",
    "# Criando a Delta Table a partir dos dados salvos\n",
    "spark.sql(f\"\"\"\n",
    "    CREATE TABLE financial_data\n",
    "    USING DELTA\n",
    "    LOCATION '{delta_path}'\n",
    "\"\"\")\n"
   ]
  },
  {
   "cell_type": "code",
   "execution_count": 9,
   "id": "c7fb789c-230f-453a-a847-c5a5527ca87e",
   "metadata": {},
   "outputs": [
    {
     "name": "stdout",
     "output_type": "stream",
     "text": [
      "+------------+--------------+-------+--------------+--------------------+\n",
      "|id_transacao|data_transacao|  valor|tipo_transacao|           descricao|\n",
      "+------------+--------------+-------+--------------+--------------------+\n",
      "|          28|    2024-07-25| 2000.1| TRANSFERENCIA|Transferência de ...|\n",
      "|          37|    2024-08-03| 2150.6| TRANSFERENCIA|Transferência par...|\n",
      "|           4|    2024-07-03|2000.78| TRANSFERENCIA|Transferência par...|\n",
      "|          22|    2024-07-19| 2200.8| TRANSFERENCIA|Transferência par...|\n",
      "|          40|    2024-08-05| 2650.4|      DEPOSITO| Pagamento Freelance|\n",
      "|           7|    2024-07-05|2500.89|      DEPOSITO| Pagamento Freelance|\n",
      "|          44|    2024-08-08|3300.75|      DEPOSITO|         Bônus Anual|\n",
      "|          11|    2024-07-08|3200.99|      DEPOSITO|             Salário|\n",
      "|          30|    2024-07-27|2750.75|      DEPOSITO|             Salário|\n",
      "+------------+--------------+-------+--------------+--------------------+\n",
      "\n"
     ]
    }
   ],
   "source": [
    "# Realizar uma consulta para selecionar todas as transações com valor acima de 2000\n",
    "df_high_value = spark.sql(\"SELECT * FROM financial_data WHERE valor > 2000\")\n",
    "df_high_value.show()\n"
   ]
  },
  {
   "cell_type": "code",
   "execution_count": 10,
   "id": "21b5423c-614e-4144-be56-e372bb0add8f",
   "metadata": {},
   "outputs": [
    {
     "name": "stdout",
     "output_type": "stream",
     "text": [
      "+-------+--------------------+------+--------+---------+--------------------+----+--------+---------+-----------+--------------+-------------+--------------------+------------+--------------------+\n",
      "|version|           timestamp|userId|userName|operation| operationParameters| job|notebook|clusterId|readVersion|isolationLevel|isBlindAppend|    operationMetrics|userMetadata|          engineInfo|\n",
      "+-------+--------------------+------+--------+---------+--------------------+----+--------+---------+-----------+--------------+-------------+--------------------+------------+--------------------+\n",
      "|      0|2024-08-07 20:22:...|  NULL|    NULL|    WRITE|{mode -> Overwrit...|NULL|    NULL|     NULL|       NULL|  Serializable|        false|{numFiles -> 14, ...|        NULL|Apache-Spark/3.5....|\n",
      "+-------+--------------------+------+--------+---------+--------------------+----+--------+---------+-----------+--------------+-------------+--------------------+------------+--------------------+\n",
      "\n"
     ]
    }
   ],
   "source": [
    "# Exibir o histórico de versões da Delta Table\n",
    "delta_table = DeltaTable.forPath(spark, \"/home/jovyan/work/delta/financial_data\")\n",
    "delta_table.history().show()\n"
   ]
  },
  {
   "cell_type": "code",
   "execution_count": 14,
   "id": "b8cfef67-2a04-4bd3-8825-4eaa011ea519",
   "metadata": {},
   "outputs": [
    {
     "name": "stdout",
     "output_type": "stream",
     "text": [
      "+------------+--------------+-------+--------------+--------------------+\n",
      "|id_transacao|data_transacao|  valor|tipo_transacao|           descricao|\n",
      "+------------+--------------+-------+--------------+--------------------+\n",
      "|          13|    2024-07-09| 800.75| TRANSFERENCIA|Transferência da ...|\n",
      "|          28|    2024-07-25| 2000.1| TRANSFERENCIA|Transferência de ...|\n",
      "|          37|    2024-08-03| 2150.6| TRANSFERENCIA|Transferência par...|\n",
      "|           4|    2024-07-03|2000.78| TRANSFERENCIA|Transferência par...|\n",
      "|          22|    2024-07-19| 2200.8| TRANSFERENCIA|Transferência par...|\n",
      "|          15|    2024-07-12|1800.75| TRANSFERENCIA|Transferência de ...|\n",
      "|          34|    2024-08-01|1600.95|      DEPOSITO| Depósito de Salário|\n",
      "|           1|    2024-07-01|1500.45|      DEPOSITO| Depósito de Salário|\n",
      "|          40|    2024-08-05| 2650.4|      DEPOSITO| Pagamento Freelance|\n",
      "|           7|    2024-07-05|2500.89|      DEPOSITO| Pagamento Freelance|\n",
      "|          48|    2024-08-10|1350.45|      DEPOSITO|    Reembolso Médico|\n",
      "|          11|    2024-07-08|3000.95|      DEPOSITO|         Bônus Anual|\n",
      "|          44|    2024-08-08|3300.75|      DEPOSITO|         Bônus Anual|\n",
      "|          12|    2024-07-08| -150.4|     PAGAMENTO|         Restaurante|\n",
      "|          11|    2024-07-08|3200.99|      DEPOSITO|             Salário|\n",
      "|          30|    2024-07-27|2750.75|      DEPOSITO|             Salário|\n",
      "|          14|    2024-07-09|-200.22|     PAGAMENTO|              Cinema|\n",
      "|          20|    2024-07-17|1000.65|      DEPOSITO|               Bônus|\n",
      "+------------+--------------+-------+--------------+--------------------+\n",
      "\n"
     ]
    }
   ],
   "source": [
    "from pyspark.sql.types import StructType, StructField, IntegerType, StringType, DoubleType\n",
    "\n",
    "# Definindo o esquema dos novos dados\n",
    "schema = StructType([\n",
    "    StructField(\"id_transacao\", IntegerType(), True),\n",
    "    StructField(\"data_transacao\", StringType(), True),\n",
    "    StructField(\"valor\", DoubleType(), True),\n",
    "    StructField(\"tipo_transacao\", StringType(), True),\n",
    "    StructField(\"descricao\", StringType(), True)\n",
    "])\n",
    "\n",
    "# Criando um DataFrame com os novos dados\n",
    "new_data = [\n",
    "    (11, '2024-07-08', 3000.95, 'DEPOSITO', 'Bônus Anual'),\n",
    "    (12, '2024-07-08', -150.40, 'PAGAMENTO', 'Restaurante'),\n",
    "    (13, '2024-07-09', 800.75, 'TRANSFERENCIA', 'Transferência da Conta Corrente'),\n",
    "    (14, '2024-07-09', -200.22, 'PAGAMENTO', 'Cinema')\n",
    "]\n",
    "\n",
    "new_df = spark.createDataFrame(new_data, schema)\n",
    "\n",
    "# Convertendo a coluna 'data_transacao' para DateType\n",
    "new_df = new_df.withColumn(\"data_transacao\", to_date(col(\"data_transacao\"), \"yyyy-MM-dd\"))\n",
    "\n",
    "\n",
    "# Adicionando os novos dados à tabela Delta\n",
    "new_df.write \\\n",
    "    .format(\"delta\") \\\n",
    "    .mode(\"append\") \\\n",
    "    .save(delta_path)\n",
    "\n",
    "# Verificando se os dados foram adicionados corretamente\n",
    "spark.sql(f\"SELECT * FROM delta.`{delta_path}`\").show()\n"
   ]
  },
  {
   "cell_type": "code",
   "execution_count": 15,
   "id": "cb29f4a7-b7db-4828-8a7b-4c99b782b401",
   "metadata": {},
   "outputs": [
    {
     "name": "stdout",
     "output_type": "stream",
     "text": [
      "+------------+--------------+-------+--------------+--------------------+\n",
      "|id_transacao|data_transacao|  valor|tipo_transacao|           descricao|\n",
      "+------------+--------------+-------+--------------+--------------------+\n",
      "|          28|    2024-07-25| 2000.1| TRANSFERENCIA|Transferência de ...|\n",
      "|          37|    2024-08-03| 2150.6| TRANSFERENCIA|Transferência par...|\n",
      "|           4|    2024-07-03|2000.78| TRANSFERENCIA|Transferência par...|\n",
      "|          22|    2024-07-19| 2200.8| TRANSFERENCIA|Transferência par...|\n",
      "|          15|    2024-07-12|1800.75| TRANSFERENCIA|Transferência de ...|\n",
      "|          34|    2024-08-01|1600.95|      DEPOSITO| Depósito de Salário|\n",
      "|           1|    2024-07-01|1500.45|      DEPOSITO| Depósito de Salário|\n",
      "|          40|    2024-08-05| 2650.4|      DEPOSITO| Pagamento Freelance|\n",
      "|           7|    2024-07-05|2500.89|      DEPOSITO| Pagamento Freelance|\n",
      "|          48|    2024-08-10|1350.45|      DEPOSITO|    Reembolso Médico|\n",
      "|          11|    2024-07-08|3000.95|      DEPOSITO|         Bônus Anual|\n",
      "|          44|    2024-08-08|3300.75|      DEPOSITO|         Bônus Anual|\n",
      "|          11|    2024-07-08|3200.99|      DEPOSITO|             Salário|\n",
      "|          30|    2024-07-27|2750.75|      DEPOSITO|             Salário|\n",
      "|          20|    2024-07-17|1000.65|      DEPOSITO|               Bônus|\n",
      "+------------+--------------+-------+--------------+--------------------+\n",
      "\n"
     ]
    }
   ],
   "source": [
    "# Realizar uma consulta para selecionar todas as transações com valor acima de 1000\n",
    "df_high_value_updated = spark.sql(\"SELECT * FROM financial_data WHERE valor > 1000\")\n",
    "df_high_value_updated.show()\n"
   ]
  },
  {
   "cell_type": "code",
   "execution_count": 17,
   "id": "62ecb9e1-0c67-4788-a8ff-4357409d7e7f",
   "metadata": {},
   "outputs": [
    {
     "name": "stdout",
     "output_type": "stream",
     "text": [
      "+--------------+------------------+\n",
      "|tipo_transacao|       total_valor|\n",
      "+--------------+------------------+\n",
      "| TRANSFERENCIA|10953.779999999999|\n",
      "|      DEPOSITO|22857.230000000003|\n",
      "|     PAGAMENTO|           -350.62|\n",
      "+--------------+------------------+\n",
      "\n"
     ]
    }
   ],
   "source": [
    "# Carregando a tabela Delta\n",
    "df = spark.read.format(\"delta\").load(delta_path)\n",
    "\n",
    "# Registrando o DataFrame como uma tabela temporária para consulta SQL\n",
    "df.createOrReplaceTempView(\"financial_data\")\n",
    "\n",
    "# Executando a consulta SQL para agrupar as transações por tipo e somar os valores\n",
    "result_df = spark.sql(\"\"\"\n",
    "    SELECT tipo_transacao, SUM(valor) as total_valor\n",
    "    FROM financial_data\n",
    "    GROUP BY tipo_transacao\n",
    "\"\"\")\n",
    "\n",
    "# Mostrando o resultado\n",
    "result_df.show()\n",
    "\n",
    "# Parando a sessão Spark\n",
    "spark.stop()"
   ]
  },
  {
   "cell_type": "code",
   "execution_count": null,
   "id": "c8c503a5-c2c8-4be1-8c45-d4397531adae",
   "metadata": {},
   "outputs": [],
   "source": []
  }
 ],
 "metadata": {
  "kernelspec": {
   "display_name": "Python 3 (ipykernel)",
   "language": "python",
   "name": "python3"
  },
  "language_info": {
   "codemirror_mode": {
    "name": "ipython",
    "version": 3
   },
   "file_extension": ".py",
   "mimetype": "text/x-python",
   "name": "python",
   "nbconvert_exporter": "python",
   "pygments_lexer": "ipython3",
   "version": "3.11.6"
  }
 },
 "nbformat": 4,
 "nbformat_minor": 5
}
